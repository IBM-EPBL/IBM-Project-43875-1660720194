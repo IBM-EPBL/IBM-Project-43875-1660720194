{
  "metadata": {
    "language_info": {
      "codemirror_mode": {
        "name": "python",
        "version": 3
      },
      "file_extension": ".py",
      "mimetype": "text/x-python",
      "name": "python",
      "nbconvert_exporter": "python",
      "pygments_lexer": "ipython3",
      "version": "3.8"
    },
    "kernelspec": {
      "name": "python",
      "display_name": "Python (Pyodide)",
      "language": "python"
    }
  },
  "nbformat_minor": 4,
  "nbformat": 4,
  "cells": [
    {
      "cell_type": "code",
      "source": "from keras.models import Sequential\nfrom keras.layers.convolutional import Conv2D\nfrom keras.layers import MaxPooling2D\nfrom keras.layers.core import Activation\nfrom keras.layers.core import Flatten\nfrom keras.layers.core import Dense\n",
      "metadata": {},
      "execution_count": null,
      "outputs": []
    },
    {
      "cell_type": "code",
      "source": "class CNN:\n @staticmethod\n def build(width, height, depth, total_classes, Saved_Weights_Path=None):\n # Initialize the Model\n model = Sequential()\n",
      "metadata": {},
      "execution_count": null,
      "outputs": []
    },
    {
      "cell_type": "code",
      "source": " # First CONV => RELU => POOL Layer\n model.add(Conv2D(20, 5, 5, border_mode=\"same\", input_shape=(depth, height, width)))\n model.add(Activation(\"relu\"))\n model.add(MaxPooling2D(pool_size=(2, 2), strides=(2, 2), dim_ordering=\"th\"))\n # Second CONV => RELU => POOL Layer\n model.add(Conv2D(50, 5, 5, border_mode=\"same\"))\n model.add(Activation(\"relu\"))\n model.add(MaxPooling2D(pool_size=(2, 2), strides=(2, 2), dim_ordering=\"th\"))\n # Third CONV => RELU => POOL Layer\n",
      "metadata": {},
      "execution_count": null,
      "outputs": []
    },
    {
      "cell_type": "code",
      "source": " # Convolution -> ReLU Activation Function -> Pooling Layer\n model.add(Conv2D(100, 5, 5, border_mode=\"same\"))\n model.add(Activation(\"relu\"))\n model.add(MaxPooling2D(pool_size=(2, 2), strides=(2, 2), dim_ordering=\"th\"))\n # FC => RELU layers\n # Fully Connected Layer -> ReLU Activation Function\n model.add(Flatten())\n model.add(Dense(500))\n model.add(Activation(\"relu\"))\n # Using Softmax Classifier for Linear Classification\n model.add(Dense(total_classes))\n model.add(Activation(\"softmax\"))\n # If the saved_weights file is already present i.e model is pre-trained, load that weights\n if {\n     Saved_Weights_Path is not None:\n model.load_weights(Saved_Weights_Path);\n    }\n return model\n# --------------------------------- EOC ----------------------------------",
      "metadata": {
        "trusted": true
      },
      "execution_count": 3,
      "outputs": [
        {
          "ename": "<class 'SyntaxError'>",
          "evalue": "invalid syntax (<ipython-input-3-1f18373142ac>, line 15)",
          "traceback": [
            "\u001b[0;36m  Cell \u001b[0;32mIn [3], line 15\u001b[0;36m\u001b[0m\n\u001b[0;31m    model.load_weights(Saved_Weights_Path);}\u001b[0m\n\u001b[0m                                          ^\u001b[0m\n\u001b[0;31mSyntaxError\u001b[0m\u001b[0;31m:\u001b[0m invalid syntax\n"
          ],
          "output_type": "error"
        }
      ]
    },
    {
      "cell_type": "code",
      "source": "",
      "metadata": {},
      "execution_count": null,
      "outputs": []
    }
  ]
}