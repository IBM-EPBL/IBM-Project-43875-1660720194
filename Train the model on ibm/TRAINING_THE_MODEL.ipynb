{
  "nbformat": 4,
  "nbformat_minor": 0,
  "metadata": {
    "colab": {
      "provenance": []
    },
    "kernelspec": {
      "name": "python3",
      "display_name": "Python 3"
    },
    "language_info": {
      "name": "python"
    }
  },
  "cells": [
    {
      "cell_type": "code",
      "source": [
        "hist = model.fit(x_train, y_train,batch_size=20,epochs=5,verbose=1,validation_data=(x_test, y_test))"
      ],
      "metadata": {
        "colab": {
          "base_uri": "https://localhost:8080/"
        },
        "id": "nJ4SC3qge5Nj",
        "outputId": "6664580c-c0f5-4cc5-cd42-581297602981"
      },
      "execution_count": null,
      "outputs": [
        {
          "output_type": "stream",
          "name": "stdout",
          "text": [
            "Epoch 1/5\n",
            "3000/3000 [==============================] - 222s 74ms/step - loss: 2.1164 - accuracy: 0.3663 - val_loss: 1.8413 - val_accuracy: 0.7507\n",
            "Epoch 2/5\n",
            "3000/3000 [==============================] - 224s 75ms/step - loss: 1.5903 - accuracy: 0.6344 - val_loss: 1.1741 - val_accuracy: 0.8070\n",
            "Epoch 3/5\n",
            "3000/3000 [==============================] - 225s 75ms/step - loss: 1.0870 - accuracy: 0.7115 - val_loss: 0.7595 - val_accuracy: 0.8371\n",
            "Epoch 4/5\n",
            "3000/3000 [==============================] - 217s 72ms/step - loss: 0.8326 - accuracy: 0.7577 - val_loss: 0.5807 - val_accuracy: 0.8606\n",
            "Epoch 5/5\n",
            "3000/3000 [==============================] - 218s 73ms/step - loss: 0.7034 - accuracy: 0.7856 - val_loss: 0.4927 - val_accuracy: 0.8725\n"
          ]
        }
      ]
    }
  ]
}