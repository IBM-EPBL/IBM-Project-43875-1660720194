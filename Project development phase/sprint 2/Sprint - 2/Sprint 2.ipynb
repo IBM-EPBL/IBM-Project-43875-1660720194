{
  "metadata": {
    "language_info": {
      "codemirror_mode": {
        "name": "python",
        "version": 3
      },
      "file_extension": ".py",
      "mimetype": "text/x-python",
      "name": "python",
      "nbconvert_exporter": "python",
      "pygments_lexer": "ipython3",
      "version": "3.8"
    },
    "kernelspec": {
      "name": "python",
      "display_name": "Python (Pyodide)",
      "language": "python"
    }
  },
  "nbformat_minor": 4,
  "nbformat": 4,
  "cells": [
    {
      "cell_type": "code",
      "source": "import matplotlib.pyplot as plt\nimport cv2\nimport numpy as np\nfrom keras.models import Sequential\nfrom keras.layers import Dense, Flatten, Conv2D, MaxPool2D, Dropout\nfrom keras.optimizers import SGD, Adam\nfrom keras.callbacks import ReduceLROnPlateau, EarlyStopping\nfrom keras.utils import to_categorical\nimport pandas as pd\nimport numpy as np\nfrom sklearn.model_selection import train_test_split\nfrom sklearn.utils import shuffle",
      "metadata": {},
      "execution_count": null,
      "outputs": []
    },
    {
      "cell_type": "code",
      "source": "data = pd.read_csv(r\"D:\\a-z alphabets\\A_Z Handwritten Data.csv\").astype('float32')\n\nprint(data.head(10))",
      "metadata": {},
      "execution_count": null,
      "outputs": []
    },
    {
      "cell_type": "code",
      "source": "y_int = np.int0(y)\ncount = np.zeros(26, dtype='int')\nfor i in y_int:\n    count[i] +=1\n\nalphabets = []\nfor i in word_dict.values():\n    alphabets.append(i)\n\nfig, ax = plt.subplots(1,1, figsize=(10,10))\nax.barh(alphabets, count)\n\nplt.xlabel(\"Number of elements \")\nplt.ylabel(\"Alphabets\")\nplt.grid()\nplt.show()",
      "metadata": {},
      "execution_count": null,
      "outputs": []
    },
    {
      "cell_type": "code",
      "source": "shuff = shuffle(train_x[:100])\n\nfig, ax = plt.subplots(3,3, figsize = (10,10))\naxes = ax.flatten()\n\nfor i in range(9):\n    _, shu = cv2.threshold(shuff[i], 30, 200, cv2.THRESH_BINARY)\n    axes[i].imshow(np.reshape(shuff[i], (28,28)), cmap=\"Greys\")\nplt.show()",
      "metadata": {},
      "execution_count": null,
      "outputs": []
    }
  ]
}